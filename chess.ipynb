{
 "cells": [
  {
   "cell_type": "code",
   "execution_count": 2,
   "metadata": {},
   "outputs": []
   "source": [
    "import chess_ai.py\n",
    "from Ipython.display import SVG\n",
    "def run_game():\n",
        ""'''\n",
        "Run the game with a fresh board\n",
        ""'''\n",
        "print('WELCOME TO CHESS')\n",
        "print('---------------------------------------------------------------------')\n",
        "print('Enter moves in the form: r1f1r2f2')\n",
        "print('For example if you wanted to move from F2 to F3 you would type f2f3')\n",
        "print('---------------------------------------------------------------------')\n",
        "board = chess.Board()\n",
        "SVG(chess.svg.board(board=board,size=400))\n",
        "print('---------------------------------------------------------------------')\n",
        "while True:\n",
            "print('Please enter a move. Type DONE when finished')\n",
            "for line in sys.stdin:\n",
                "if line.strip() == 'DONE':\n",
                    "break\n",
                "elif len(line.strip()) != 4:\n",
                    "print('This is an incorrenct format')\n",
                    "print('Enter moves in the form: r1f1r2f2')\n",
                "else:\n",
                    "human_move = chess.Move.from_uci(line.strip())\n",
                    "if human_move in board.legal_moves:\n",
                        "board.push(human_move)\n",
                        "print('-----------------------------------------------------')\n",
                        "print(board)\n",
                        "print('-----------------------------------------------------')\n",
                        "print('AI is making its move....')\n",
                        "chess_ai.make_ai_move(board)\n",
                        "print('-----------------------------------------------------')\n",
                        "SVG(chess.svg.board(board=board,size=400))\n",
                        "print('-----------------------------------------------------')\n",
                        "break\n",
                    "else:\n",
                        "print('This is not a legal move')\n"
   ]
  },
  {
   "cell_type": "code",
   "execution_count": null,
   "metadata": {},
   "outputs": [],
   "source": []
  }
 ],
 "metadata": {
  "kernelspec": {
   "display_name": "Python 3",
   "language": "python",
   "name": "python3"
  },
  "language_info": {
   "codemirror_mode": {
    "name": "ipython",
    "version": 3
   },
   "file_extension": ".py",
   "mimetype": "text/x-python",
   "name": "python",
   "nbconvert_exporter": "python",
   "pygments_lexer": "ipython3",
   "version": "3.8.5"
  }
 },
 "nbformat": 4,
 "nbformat_minor": 4
}

