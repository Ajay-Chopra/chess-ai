{
 "cells": [
  {
   "cell_type": "code",
   "execution_count": 2,
   "metadata": {},
   "outputs": [],
   "source": [
    "import chess\n",
    "import chess.svg",
    "import piece_square_tables",
    "import sys",

"def evaluate_board(board):",
    "'''",
    "Given a board, evaluate the board state based on piece-square tables",
    "'''",
    "if board.is_checkmate():",
        "if board.turn:",
            "return 9999",
        "else:",
            "return -9999",
    "elif board.is_stalemate() or board.is_insufficient_material():",
        "return 0",
    "else:", 
        "# First, calculate total material on board",
   ]
  },
  {
   "cell_type": "code",
   "execution_count": null,
   "metadata": {},
   "outputs": [],
   "source": []
  }
 ],
 "metadata": {
  "kernelspec": {
   "display_name": "Python 3",
   "language": "python",
   "name": "python3"
  },
  "language_info": {
   "codemirror_mode": {
    "name": "ipython",
    "version": 3
   },
   "file_extension": ".py",
   "mimetype": "text/x-python",
   "name": "python",
   "nbconvert_exporter": "python",
   "pygments_lexer": "ipython3",
   "version": "3.8.5"
  }
 },
 "nbformat": 4,
 "nbformat_minor": 4
}
